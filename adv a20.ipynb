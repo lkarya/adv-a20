{
 "cells": [
  {
   "cell_type": "code",
   "execution_count": null,
   "id": "797c4fd0",
   "metadata": {},
   "outputs": [],
   "source": [
    "# Compare and contrast the float and Decimal classes&#39; benefits and drawbacks.\n",
    "\n",
    "Decimal Vs Float\n",
    "\n",
    "DECIMAL and FLOAT both are used to store numerical values.\n",
    "Float is Approximate-number data type, which means that not all values in the data type range can be represented exactly , it round up the values."
   ]
  },
  {
   "cell_type": "code",
   "execution_count": null,
   "id": "e844887e",
   "metadata": {},
   "outputs": [],
   "source": [
    "# What happens if the equality of Decimal('1.200') and Decimal('1.2') is checked?\n",
    "\n",
    "\n",
    "1000 to 1k\n",
    "5821 to 5.8k\n",
    "10500 to 10k\n",
    "101800 to 101k\n",
    "2000000 to 2m\n",
    "7800000 to 7.8m\n",
    "92150000 to 92m\n",
    "123200000 to 123m"
   ]
  },
  {
   "cell_type": "code",
   "execution_count": null,
   "id": "977b873c",
   "metadata": {},
   "outputs": [],
   "source": [
    "# In an arithmetic phrase, how simple is it to combine Decimal objects with integers?\n",
    "\n",
    "What is arithmetic with decimals?\n",
    "Arithmetic with decimals\n",
    "\n",
    "We can add, subtract, multiply, and divide decimal numbers. Addition and subtraction of decimal numbers works the same way as whole number addition and subtraction; we just need to make sure that we line up the decimal points."
   ]
  },
  {
   "cell_type": "code",
   "execution_count": null,
   "id": "054890ce",
   "metadata": {},
   "outputs": [],
   "source": [
    "# Using the Fraction class but not the Decimal class, give an example of a quantity that can be\n",
    "expressed with absolute precision.\n",
    "\n",
    "By the end of this section, you will be able to:\n",
    "\n",
    "Determine the appropriate number of significant figures in both addition and subtraction, as well as multiplication and division calculations.\n",
    "Calculate the percent uncertainty of a measurement."
   ]
  },
  {
   "cell_type": "code",
   "execution_count": null,
   "id": "c586b0f0",
   "metadata": {},
   "outputs": [],
   "source": [
    "# How do the Fraction class and the integer type (int) relate to each other? Containment or inheritance?\n",
    "\n",
    "A very common example to show the details of implementing a user-defined class is to construct a class to implement the abstract data type Fraction. We have already seen that Python provides a number of numeric classes for our use. There are times, however, that it would be most appropriate to be able to create data objects that “look like” fractions."
   ]
  }
 ],
 "metadata": {
  "kernelspec": {
   "display_name": "Python 3 (ipykernel)",
   "language": "python",
   "name": "python3"
  },
  "language_info": {
   "codemirror_mode": {
    "name": "ipython",
    "version": 3
   },
   "file_extension": ".py",
   "mimetype": "text/x-python",
   "name": "python",
   "nbconvert_exporter": "python",
   "pygments_lexer": "ipython3",
   "version": "3.9.7"
  }
 },
 "nbformat": 4,
 "nbformat_minor": 5
}
